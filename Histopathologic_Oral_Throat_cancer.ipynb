{
  "nbformat": 4,
  "nbformat_minor": 0,
  "metadata": {
    "colab": {
      "name": " Histopathologic Oral/Throat cancer.ipynb",
      "provenance": [],
      "collapsed_sections": [],
      "machine_shape": "hm"
    },
    "kernelspec": {
      "name": "python3",
      "display_name": "Python 3"
    },
    "language_info": {
      "name": "python"
    },
    "accelerator": "GPU"
  },
  "cells": [
    {
      "cell_type": "code",
      "execution_count": null,
      "metadata": {
        "colab": {
          "base_uri": "https://localhost:8080/"
        },
        "id": "S6loTvS1Fjog",
        "outputId": "8064bd04-651d-4c57-84bf-cae35c6adf69"
      },
      "outputs": [
        {
          "output_type": "stream",
          "name": "stdout",
          "text": [
            "Mounted at /content/drive/\n"
          ]
        }
      ],
      "source": [
        "from google.colab import drive\n",
        "drive.mount('/content/drive/')"
      ]
    },
    {
      "cell_type": "code",
      "source": [
        "import os\n",
        "os.chdir('/content/drive/MyDrive/Throat cancer dataset')\n",
        "print('we are inside the folder',os.getcwd() )"
      ],
      "metadata": {
        "colab": {
          "base_uri": "https://localhost:8080/"
        },
        "id": "v_L5fCjrFlX8",
        "outputId": "3097ff74-2e19-4003-d02a-078e5f9d0b8a"
      },
      "execution_count": null,
      "outputs": [
        {
          "output_type": "stream",
          "name": "stdout",
          "text": [
            "we are inside the folder /content/drive/MyDrive/Throat cancer dataset\n"
          ]
        }
      ]
    },
    {
      "cell_type": "code",
      "source": [
        "data= '/content/drive/MyDrive/Throat cancer dataset'"
      ],
      "metadata": {
        "id": "1XsELsCdFlbY"
      },
      "execution_count": null,
      "outputs": []
    },
    {
      "cell_type": "code",
      "source": [
        "train_data= data + '//train'\n",
        "os.listdir(train_data)"
      ],
      "metadata": {
        "colab": {
          "base_uri": "https://localhost:8080/"
        },
        "id": "KtNULK4tFleK",
        "outputId": "0eda2190-ab97-47dd-9fea-6fe5d509a0b5"
      },
      "execution_count": null,
      "outputs": [
        {
          "output_type": "execute_result",
          "data": {
            "text/plain": [
              "['OSCC', 'Normal']"
            ]
          },
          "metadata": {},
          "execution_count": 4
        }
      ]
    },
    {
      "cell_type": "markdown",
      "source": [
        "No. of images in train folderwise"
      ],
      "metadata": {
        "id": "NXRyz_ijHldU"
      }
    },
    {
      "cell_type": "code",
      "source": [
        "print('No. of images in OSCC:', len(os.listdir(train_data + '//OSCC')))\n",
        "print('No. of images in Normal:', len(os.listdir(train_data + '//Normal')))"
      ],
      "metadata": {
        "colab": {
          "base_uri": "https://localhost:8080/"
        },
        "id": "-cB7Ub62Flgz",
        "outputId": "c04d9657-10ac-4e1c-e767-2942c3060310"
      },
      "execution_count": null,
      "outputs": [
        {
          "output_type": "stream",
          "name": "stdout",
          "text": [
            "No. of images in OSCC: 2476\n",
            "No. of images in Normal: 2370\n"
          ]
        }
      ]
    },
    {
      "cell_type": "code",
      "source": [
        "test_path= data + \"//test\"\n",
        "os.listdir(test_path)"
      ],
      "metadata": {
        "colab": {
          "base_uri": "https://localhost:8080/"
        },
        "id": "CMlko1wrFljj",
        "outputId": "d44350cf-add8-4c08-fb93-dd32f98abc25"
      },
      "execution_count": null,
      "outputs": [
        {
          "output_type": "execute_result",
          "data": {
            "text/plain": [
              "['Normal', 'OSCC']"
            ]
          },
          "metadata": {},
          "execution_count": 6
        }
      ]
    },
    {
      "cell_type": "code",
      "source": [
        "print('No. of images in OSCC:', len(os.listdir(test_path + '//OSCC')))\n",
        "print('No. of images in Normal:', len(os.listdir(test_path + '//Normal')))"
      ],
      "metadata": {
        "colab": {
          "base_uri": "https://localhost:8080/"
        },
        "id": "cV2J1h-oFlmg",
        "outputId": "01d57854-32fd-4599-8dae-4529e02df902"
      },
      "execution_count": null,
      "outputs": [
        {
          "output_type": "stream",
          "name": "stdout",
          "text": [
            "No. of images in OSCC: 95\n",
            "No. of images in Normal: 31\n"
          ]
        }
      ]
    },
    {
      "cell_type": "code",
      "source": [
        "import json\n",
        "import math\n",
        "import os\n",
        "import cv2\n",
        "import tensorflow\n",
        "from PIL import Image\n",
        "import numpy as np\n",
        "from keras import layers\n",
        "\n",
        "from keras.callbacks import Callback, ModelCheckpoint, ReduceLROnPlateau, TensorBoard\n",
        "from keras.preprocessing.image import ImageDataGenerator\n",
        "from keras.utils.np_utils import to_categorical\n",
        "from keras.models import Sequential\n",
        "from tensorflow.keras.optimizers import Adam\n",
        "import matplotlib.pyplot as plt\n",
        "import pandas as pd\n",
        "from sklearn.model_selection import train_test_split\n",
        "from sklearn.metrics import cohen_kappa_score, accuracy_score\n",
        "import scipy\n",
        "from tqdm import tqdm\n",
        "import tensorflow as tf\n",
        "from keras import backend as K\n",
        "import gc\n",
        "from functools import partial\n",
        "from sklearn import metrics\n",
        "from collections import Counter\n",
        "import json\n",
        "import itertools"
      ],
      "metadata": {
        "id": "aX9HuMkRFlpL"
      },
      "execution_count": null,
      "outputs": []
    },
    {
      "cell_type": "code",
      "source": [
        "def dataset_load(dirct, RESIZE, sigmaX=10):\n",
        "  IMG= []\n",
        "  read= lambda imname: np.asarray(Image.open(imname).convert(\"RGB\"))\n",
        "  for IMAGE_NAME in tqdm(os.listdir(dirct)):\n",
        "    PATH= os.path.join(dirct, IMAGE_NAME)\n",
        "    _, ftype= os.path.splitext(PATH)\n",
        "    if ftype == \".jpg\":\n",
        "      img= read(PATH)\n",
        "      img = cv2.resize(img, (RESIZE, RESIZE))\n",
        "      IMG.append(np.array(img))\n",
        "  return IMG\n",
        "  "
      ],
      "metadata": {
        "id": "-rhHItQyFlr8"
      },
      "execution_count": null,
      "outputs": []
    },
    {
      "cell_type": "code",
      "source": [
        "#Train\n",
        "benign_train= np.array(dataset_load('train/Normal', 224))\n",
        "malign_train= np.array(dataset_load('train/OSCC', 224))\n",
        "\n",
        "#Test\n",
        "benign_test= np.array(dataset_load('test/Normal', 224))\n",
        "malign_test= np.array(dataset_load('test/OSCC', 224))\n",
        "\n",
        "#Val\n",
        "benign_val= np.array(dataset_load('val/Normal', 224))\n",
        "malign_val= np.array(dataset_load('val/OSCC', 224))"
      ],
      "metadata": {
        "colab": {
          "base_uri": "https://localhost:8080/"
        },
        "id": "xqzto0jVFlu3",
        "outputId": "487b08f5-fd28-46c5-d0ad-e9b2290476b9"
      },
      "execution_count": null,
      "outputs": [
        {
          "output_type": "stream",
          "name": "stderr",
          "text": [
            "100%|██████████| 2370/2370 [01:13<00:00, 32.38it/s] \n",
            "100%|██████████| 2476/2476 [02:29<00:00, 16.57it/s]\n",
            "100%|██████████| 31/31 [00:16<00:00,  1.85it/s]\n",
            "100%|██████████| 95/95 [00:47<00:00,  2.00it/s]\n",
            "100%|██████████| 28/28 [00:14<00:00,  1.89it/s]\n",
            "100%|██████████| 92/92 [00:43<00:00,  2.11it/s]\n"
          ]
        }
      ]
    },
    {
      "cell_type": "code",
      "source": [
        "#Creating labels \n",
        "benign_train_label = np.zeros(len(benign_train))\n",
        "malign_train_label = np.ones(len(malign_train))\n",
        "\n",
        "benign_test_label = np.zeros(len(benign_test))\n",
        "malign_test_label = np.ones(len(malign_test))\n",
        "\n",
        "benign_val_label = np.zeros(len(benign_val))\n",
        "malign_val_label = np.ones(len(malign_val))"
      ],
      "metadata": {
        "id": "hjgCsm9lFl0i"
      },
      "execution_count": null,
      "outputs": []
    },
    {
      "cell_type": "code",
      "source": [
        "# Merge data \n",
        "\n",
        "X_train= np.concatenate((benign_train, malign_train), axis= 0)\n",
        "Y_train= np.concatenate((benign_train_label, malign_train_label), axis= 0)\n",
        "\n",
        "X_test= np.concatenate((benign_test, malign_test), axis=0)\n",
        "Y_test= np.concatenate((benign_test_label, malign_test_label), axis=0)\n",
        "\n",
        "X_val= np.concatenate((benign_val, malign_val), axis=0)\n",
        "Y_val= np.concatenate((benign_val_label, malign_val_label), axis=0)\n",
        "\n"
      ],
      "metadata": {
        "id": "sbLEajVHN5Zs"
      },
      "execution_count": null,
      "outputs": []
    },
    {
      "cell_type": "code",
      "source": [
        "#categorical \n",
        "Y_train= to_categorical(Y_train, num_classes=2)\n",
        "Y_test= to_categorical(Y_test, num_classes=2)\n",
        "Y_val= to_categorical(Y_val, num_classes=2)"
      ],
      "metadata": {
        "id": "07sJ4jXzN5dZ"
      },
      "execution_count": null,
      "outputs": []
    },
    {
      "cell_type": "code",
      "source": [
        "x_train=X_train\n",
        "y_train=Y_train\n",
        "x_val=X_val\n",
        "y_val=Y_val"
      ],
      "metadata": {
        "id": "pvzTKzaUN5fd"
      },
      "execution_count": null,
      "outputs": []
    },
    {
      "cell_type": "code",
      "source": [
        "BATCH_SIZE = 32\n",
        "\n",
        "train_datagen = ImageDataGenerator( )\n",
        "\n",
        "train_generator = train_datagen.flow(x_train, y_train, batch_size=BATCH_SIZE)\n",
        "val_generator = train_datagen.flow(x_val, y_val, batch_size=BATCH_SIZE, shuffle= False)\n",
        "test_generator = train_datagen.flow(X_test, Y_test, batch_size=BATCH_SIZE, shuffle= False)"
      ],
      "metadata": {
        "id": "OB-gIpEyN5ia"
      },
      "execution_count": null,
      "outputs": []
    },
    {
      "cell_type": "code",
      "source": [
        "from tensorflow.keras.applications import EfficientNetB5"
      ],
      "metadata": {
        "id": "TF2CSL_LFl4E"
      },
      "execution_count": null,
      "outputs": []
    },
    {
      "cell_type": "code",
      "source": [
        "model = EfficientNetB5(input_shape=(224,224,3), include_top= False, weights=\"imagenet\")"
      ],
      "metadata": {
        "colab": {
          "base_uri": "https://localhost:8080/"
        },
        "id": "L-OGhvTrXPpG",
        "outputId": "09e17f43-1f17-4a17-bef1-b38c5f213d52"
      },
      "execution_count": null,
      "outputs": [
        {
          "output_type": "stream",
          "name": "stdout",
          "text": [
            "Downloading data from https://storage.googleapis.com/keras-applications/efficientnetb5_notop.h5\n",
            "115269632/115263384 [==============================] - 1s 0us/step\n",
            "115277824/115263384 [==============================] - 1s 0us/step\n"
          ]
        }
      ]
    },
    {
      "cell_type": "code",
      "source": [
        "#Turning off the traning layers\n",
        "\n",
        "for layer in model.layers:\n",
        "  layer.trainable= False"
      ],
      "metadata": {
        "id": "FihJUBd2XPsU"
      },
      "execution_count": null,
      "outputs": []
    },
    {
      "cell_type": "code",
      "source": [
        "from tensorflow.keras.layers import SeparableConv2D, BatchNormalization, GlobalAveragePooling2D\n",
        "from tensorflow.keras.layers import Dense, Dropout, Flatten"
      ],
      "metadata": {
        "id": "fjkYqpkdZCC3"
      },
      "execution_count": null,
      "outputs": []
    },
    {
      "cell_type": "code",
      "source": [
        "custom_model= Sequential([\n",
        "                          model,\n",
        "                          GlobalAveragePooling2D(),\n",
        "                          Dropout(0.5),\n",
        "                          Flatten(),\n",
        "                          BatchNormalization(),\n",
        "                          Dense(512, activation='relu'),\n",
        "                          BatchNormalization(),\n",
        "                          Dropout(0.5),\n",
        "                          Dense(1, activation='softmax')], name= \"custom_model\")"
      ],
      "metadata": {
        "id": "RdQMp30DXPvW"
      },
      "execution_count": null,
      "outputs": []
    },
    {
      "cell_type": "code",
      "source": [
        "custom_model.summary()"
      ],
      "metadata": {
        "colab": {
          "base_uri": "https://localhost:8080/"
        },
        "id": "hJybxX2BYEFV",
        "outputId": "fed11cec-7b69-4de1-c722-67b5a16a9229"
      },
      "execution_count": null,
      "outputs": [
        {
          "output_type": "stream",
          "name": "stdout",
          "text": [
            "Model: \"custom_model\"\n",
            "_________________________________________________________________\n",
            " Layer (type)                Output Shape              Param #   \n",
            "=================================================================\n",
            " efficientnetb5 (Functional)  (None, 7, 7, 2048)       28513527  \n",
            "                                                                 \n",
            " global_average_pooling2d_1   (None, 2048)             0         \n",
            " (GlobalAveragePooling2D)                                        \n",
            "                                                                 \n",
            " dropout_2 (Dropout)         (None, 2048)              0         \n",
            "                                                                 \n",
            " flatten_1 (Flatten)         (None, 2048)              0         \n",
            "                                                                 \n",
            " batch_normalization_2 (Batc  (None, 2048)             8192      \n",
            " hNormalization)                                                 \n",
            "                                                                 \n",
            " dense_2 (Dense)             (None, 512)               1049088   \n",
            "                                                                 \n",
            " batch_normalization_3 (Batc  (None, 512)              2048      \n",
            " hNormalization)                                                 \n",
            "                                                                 \n",
            " dropout_3 (Dropout)         (None, 512)               0         \n",
            "                                                                 \n",
            " dense_3 (Dense)             (None, 2)                 1026      \n",
            "                                                                 \n",
            "=================================================================\n",
            "Total params: 29,573,881\n",
            "Trainable params: 1,055,234\n",
            "Non-trainable params: 28,518,647\n",
            "_________________________________________________________________\n"
          ]
        }
      ]
    },
    {
      "cell_type": "code",
      "source": [
        "custom_model.compile(loss='binary_crossentropy', optimizer=Adam(learning_rate=1e-4), metrics=['accuracy'])"
      ],
      "metadata": {
        "id": "g9WEYhC_YEIr"
      },
      "execution_count": null,
      "outputs": []
    },
    {
      "cell_type": "code",
      "source": [
        "#Defining a custom callback function to stop training our model when accuracy goes above 99%\n",
        "\n",
        "class MyCallback(tf.keras.callbacks.Callback):\n",
        "  def on_epoch_end(self, epoc, logs={}):\n",
        "    if logs.get('accuracy')>0.99:\n",
        "      print(\"\\n Reached accuracy...Stopped Traning\")\n",
        "      self.model.stop_training= True\n",
        "\n",
        "my_callback= MyCallback()\n",
        "\n",
        "#ReduceLROnPlateau to stabilize the training process of the model\n",
        "rop_callback= ReduceLROnPlateau(moniter= \"val_acc\", patience=5, verbose=1, factor=0.2,min_lr=1e-4)\n"
      ],
      "metadata": {
        "id": "JLtyql32b2vP"
      },
      "execution_count": null,
      "outputs": []
    },
    {
      "cell_type": "code",
      "source": [
        "CALLBACKS= [rop_callback, my_callback]"
      ],
      "metadata": {
        "id": "9GWJdK0db2yz"
      },
      "execution_count": null,
      "outputs": []
    },
    {
      "cell_type": "code",
      "source": [
        "step_epoch= x_train.shape[0] // BATCH_SIZE\n",
        "print('Step epoch:', step_epoch)"
      ],
      "metadata": {
        "colab": {
          "base_uri": "https://localhost:8080/"
        },
        "id": "x6RCp4sbb23W",
        "outputId": "14d50fab-7209-4c74-f279-c6c6770e1e4c"
      },
      "execution_count": null,
      "outputs": [
        {
          "output_type": "stream",
          "name": "stdout",
          "text": [
            "Step epoch: 151\n"
          ]
        }
      ]
    },
    {
      "cell_type": "code",
      "source": [
        "history = custom_model.fit(\n",
        "    train_generator,\n",
        "    steps_per_epoch=step_epoch,\n",
        "    epochs=20,\n",
        "    validation_data=(x_val, y_val),\n",
        "    callbacks=CALLBACKS\n",
        ")"
      ],
      "metadata": {
        "colab": {
          "base_uri": "https://localhost:8080/"
        },
        "id": "I2xPb893crMv",
        "outputId": "e0a9bf9d-c6f5-4acd-8bf4-3a1e3ed1802a"
      },
      "execution_count": null,
      "outputs": [
        {
          "output_type": "stream",
          "name": "stdout",
          "text": [
            "Epoch 1/20\n",
            "151/151 [==============================] - 43s 170ms/step - loss: 0.8148 - accuracy: 0.6564 - val_loss: 0.5635 - val_accuracy: 0.7250 - lr: 1.0000e-04\n",
            "Epoch 2/20\n",
            "151/151 [==============================] - 21s 141ms/step - loss: 0.6405 - accuracy: 0.7370 - val_loss: 0.4619 - val_accuracy: 0.7750 - lr: 1.0000e-04\n",
            "Epoch 3/20\n",
            "151/151 [==============================] - 21s 141ms/step - loss: 0.5688 - accuracy: 0.7727 - val_loss: 0.4291 - val_accuracy: 0.8000 - lr: 1.0000e-04\n",
            "Epoch 4/20\n",
            "151/151 [==============================] - 21s 141ms/step - loss: 0.5455 - accuracy: 0.7798 - val_loss: 0.3917 - val_accuracy: 0.8333 - lr: 1.0000e-04\n",
            "Epoch 5/20\n",
            "151/151 [==============================] - 21s 141ms/step - loss: 0.5262 - accuracy: 0.7923 - val_loss: 0.3871 - val_accuracy: 0.8333 - lr: 1.0000e-04\n",
            "Epoch 6/20\n",
            "151/151 [==============================] - 21s 141ms/step - loss: 0.4778 - accuracy: 0.8039 - val_loss: 0.3890 - val_accuracy: 0.8250 - lr: 1.0000e-04\n",
            "Epoch 7/20\n",
            "151/151 [==============================] - 21s 141ms/step - loss: 0.4639 - accuracy: 0.8128 - val_loss: 0.3826 - val_accuracy: 0.8333 - lr: 1.0000e-04\n",
            "Epoch 8/20\n",
            "151/151 [==============================] - 21s 141ms/step - loss: 0.4600 - accuracy: 0.8187 - val_loss: 0.3755 - val_accuracy: 0.8333 - lr: 1.0000e-04\n",
            "Epoch 9/20\n",
            "151/151 [==============================] - 21s 141ms/step - loss: 0.4544 - accuracy: 0.8097 - val_loss: 0.3546 - val_accuracy: 0.8333 - lr: 1.0000e-04\n",
            "Epoch 10/20\n",
            "151/151 [==============================] - 21s 141ms/step - loss: 0.4326 - accuracy: 0.8234 - val_loss: 0.3677 - val_accuracy: 0.8417 - lr: 1.0000e-04\n",
            "Epoch 11/20\n",
            "151/151 [==============================] - 21s 141ms/step - loss: 0.4235 - accuracy: 0.8322 - val_loss: 0.3621 - val_accuracy: 0.8333 - lr: 1.0000e-04\n",
            "Epoch 12/20\n",
            "151/151 [==============================] - 21s 141ms/step - loss: 0.4215 - accuracy: 0.8272 - val_loss: 0.3548 - val_accuracy: 0.8333 - lr: 1.0000e-04\n",
            "Epoch 13/20\n",
            "151/151 [==============================] - 21s 141ms/step - loss: 0.4057 - accuracy: 0.8319 - val_loss: 0.3550 - val_accuracy: 0.8250 - lr: 1.0000e-04\n",
            "Epoch 14/20\n",
            "151/151 [==============================] - 21s 141ms/step - loss: 0.4082 - accuracy: 0.8373 - val_loss: 0.3512 - val_accuracy: 0.8333 - lr: 1.0000e-04\n",
            "Epoch 15/20\n",
            "151/151 [==============================] - 21s 141ms/step - loss: 0.3857 - accuracy: 0.8455 - val_loss: 0.3459 - val_accuracy: 0.8333 - lr: 1.0000e-04\n",
            "Epoch 16/20\n",
            "151/151 [==============================] - 21s 141ms/step - loss: 0.3833 - accuracy: 0.8494 - val_loss: 0.3499 - val_accuracy: 0.8333 - lr: 1.0000e-04\n",
            "Epoch 17/20\n",
            "151/151 [==============================] - 21s 141ms/step - loss: 0.3782 - accuracy: 0.8506 - val_loss: 0.3553 - val_accuracy: 0.8500 - lr: 1.0000e-04\n",
            "Epoch 18/20\n",
            "151/151 [==============================] - 21s 140ms/step - loss: 0.3721 - accuracy: 0.8509 - val_loss: 0.3446 - val_accuracy: 0.8500 - lr: 1.0000e-04\n",
            "Epoch 19/20\n",
            "151/151 [==============================] - 21s 140ms/step - loss: 0.3907 - accuracy: 0.8382 - val_loss: 0.3458 - val_accuracy: 0.8250 - lr: 1.0000e-04\n",
            "Epoch 20/20\n",
            "151/151 [==============================] - 21s 140ms/step - loss: 0.3523 - accuracy: 0.8610 - val_loss: 0.3431 - val_accuracy: 0.8333 - lr: 1.0000e-04\n"
          ]
        }
      ]
    },
    {
      "cell_type": "code",
      "source": [
        "plt.figure(figsize=(10,8))\n",
        "\n",
        "plt.plot(history.history['accuracy'])\n",
        "plt.plot(history.history['val_accuracy'])\n",
        "plt.title('Model Accuracy')\n",
        "plt.ylabel('Accuracy')\n",
        "plt.xlabel('Epoch')\n",
        "plt.legend(['Train', 'Validation'], loc='upper left')\n",
        "plt.gca().ticklabel_format(axis='both', style='plain', useOffset=False)\n",
        "plt.show()"
      ],
      "metadata": {
        "id": "bACrSlGNcrQl",
        "colab": {
          "base_uri": "https://localhost:8080/",
          "height": 513
        },
        "outputId": "e2b2c283-d2d1-4f9b-9054-cc7dffd3764e"
      },
      "execution_count": null,
      "outputs": [
        {
          "output_type": "display_data",
          "data": {
            "text/plain": [
              "<Figure size 720x576 with 1 Axes>"
            ],
            "image/png": "[encoded data removed]"
          },
          "metadata": {
            "needs_background": "light"
          }
        }
      ]
    },
    {
      "cell_type": "code",
      "source": [
        "#Evaluating the model on the data\n",
        "\n",
        "test_scores = custom_model.evaluate(test_generator)\n",
        "print(\"Testing Accuracy: %.2f%%\"%(test_scores[1] * 100), '\\n')\n",
        "\n",
        "train_scores = custom_model.evaluate(train_generator)\n",
        "print(\"Training Accuracy: %.2f%%\"%(train_scores[1] * 100), '\\n')\n",
        "\n",
        "val_scores = custom_model.evaluate(val_generator)\n",
        "print(\"Validation Accuracy: %.2f%%\"%(val_scores[1] * 100),'\\n')"
      ],
      "metadata": {
        "id": "iUoqXCGIcrT9",
        "colab": {
          "base_uri": "https://localhost:8080/"
        },
        "outputId": "999d3d4a-f18f-4cd4-c92a-fa03bd31cc2c"
      },
      "execution_count": null,
      "outputs": [
        {
          "output_type": "stream",
          "name": "stdout",
          "text": [
            "4/4 [==============================] - 5s 226ms/step - loss: 0.4066 - accuracy: 0.8492\n",
            "Testing Accuracy: 84.92% \n",
            "\n",
            "152/152 [==============================] - 20s 133ms/step - loss: 0.1691 - accuracy: 0.9408\n",
            "Training Accuracy: 94.08% \n",
            "\n",
            "4/4 [==============================] - 1s 125ms/step - loss: 0.3431 - accuracy: 0.8333\n",
            "Validation Accuracy: 83.33% \n",
            "\n"
          ]
        }
      ]
    },
    {
      "cell_type": "code",
      "source": [
        "custom_model.save('Throat_efftnetB5_model.h5')"
      ],
      "metadata": {
        "id": "3TqFA-jMnBem"
      },
      "execution_count": null,
      "outputs": []
    },
    {
      "cell_type": "code",
      "source": [
        "# Load the  model\n",
        "from keras.models import load_model\n",
        "Loaded_model = load_model('/content/drive/MyDrive/Throat cancer dataset/Throat_resnet_model.h5')"
      ],
      "metadata": {
        "id": "mKGW28vNnBjX"
      },
      "execution_count": null,
      "outputs": []
    },
    {
      "cell_type": "code",
      "source": [
        "#Evaluating the model on the data\n",
        "\n",
        "test_scores = Loaded_model.evaluate(test_generator)\n",
        "print(\"Testing Accuracy: %.2f%%\"%(test_scores[1] * 100), '\\n')\n",
        "\n",
        "train_scores = Loaded_model.evaluate(train_generator)\n",
        "print(\"Training Accuracy: %.2f%%\"%(train_scores[1] * 100), '\\n')\n",
        "\n",
        "val_scores = Loaded_model.evaluate(val_generator)\n",
        "print(\"Validation Accuracy: %.2f%%\"%(val_scores[1] * 100),'\\n')"
      ],
      "metadata": {
        "colab": {
          "base_uri": "https://localhost:8080/"
        },
        "id": "Oq7HARNDnBmh",
        "outputId": "c1beba47-c072-4e83-960e-449210d68736"
      },
      "execution_count": null,
      "outputs": [
        {
          "output_type": "stream",
          "name": "stdout",
          "text": [
            "4/4 [==============================] - 1s 65ms/step - loss: 0.3234 - accuracy: 0.8571\n",
            "Testing Accuracy: 85.71% \n",
            "\n",
            "152/152 [==============================] - 9s 62ms/step - loss: 0.1327 - accuracy: 0.9571\n",
            "Training Accuracy: 95.71% \n",
            "\n",
            "4/4 [==============================] - 0s 60ms/step - loss: 0.3918 - accuracy: 0.8167\n",
            "Validation Accuracy: 81.67% \n",
            "\n"
          ]
        }
      ]
    },
    {
      "cell_type": "code",
      "source": [
        ""
      ],
      "metadata": {
        "id": "AAV4PBNCnBpW"
      },
      "execution_count": null,
      "outputs": []
    },
    {
      "cell_type": "code",
      "source": [
        ""
      ],
      "metadata": {
        "id": "u_eUcFP8nBtS"
      },
      "execution_count": null,
      "outputs": []
    }
  ]
}